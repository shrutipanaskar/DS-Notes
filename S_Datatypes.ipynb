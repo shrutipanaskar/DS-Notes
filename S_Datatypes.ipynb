{
  "cells": [
    {
      "cell_type": "markdown",
      "id": "ffde79ee",
      "metadata": {
        "id": "ffde79ee"
      },
      "source": [
        "## Introduction to Datatypes"
      ]
    },
    {
      "cell_type": "code",
      "execution_count": null,
      "id": "4b0e2750",
      "metadata": {
        "id": "4b0e2750"
      },
      "outputs": [],
      "source": [
        "i = 10"
      ]
    },
    {
      "cell_type": "code",
      "execution_count": null,
      "id": "a59b79be",
      "metadata": {
        "id": "a59b79be",
        "outputId": "ed7f51e4-f626-4f15-fdfe-ec55b5bb926e"
      },
      "outputs": [
        {
          "data": {
            "text/plain": [
              "int"
            ]
          },
          "execution_count": 2,
          "metadata": {},
          "output_type": "execute_result"
        }
      ],
      "source": [
        "type(i)"
      ]
    },
    {
      "cell_type": "code",
      "execution_count": null,
      "id": "f6a837b7",
      "metadata": {
        "id": "f6a837b7",
        "outputId": "09cfc445-d88b-4ce4-e672-de25d0fe138d"
      },
      "outputs": [
        {
          "data": {
            "text/plain": [
              "1660050958928"
            ]
          },
          "execution_count": 3,
          "metadata": {},
          "output_type": "execute_result"
        }
      ],
      "source": [
        "id(i)"
      ]
    },
    {
      "cell_type": "code",
      "execution_count": null,
      "id": "c3eb9e61",
      "metadata": {
        "id": "c3eb9e61",
        "outputId": "44389a8e-9cb3-4cb3-bd9d-4d0b3f25360f"
      },
      "outputs": [
        {
          "data": {
            "text/plain": [
              "10"
            ]
          },
          "execution_count": 4,
          "metadata": {},
          "output_type": "execute_result"
        }
      ],
      "source": [
        "i"
      ]
    },
    {
      "cell_type": "code",
      "execution_count": null,
      "id": "1d110073",
      "metadata": {
        "id": "1d110073",
        "outputId": "827f8009-f260-4614-c1b6-3f038e6f2c4f"
      },
      "outputs": [
        {
          "name": "stdout",
          "output_type": "stream",
          "text": [
            "10\n"
          ]
        }
      ],
      "source": [
        "print(i)"
      ]
    },
    {
      "cell_type": "markdown",
      "id": "ba53ea29",
      "metadata": {
        "id": "ba53ea29"
      },
      "source": [
        "# Strings\n",
        " - Strings: a collection of characters\n",
        " - deifined either by double or single quotes\n",
        " - IMMUTABLE"
      ]
    },
    {
      "cell_type": "code",
      "execution_count": null,
      "id": "4913ffbd",
      "metadata": {
        "id": "4913ffbd"
      },
      "outputs": [],
      "source": [
        "s = 'WELCOME'"
      ]
    },
    {
      "cell_type": "code",
      "execution_count": null,
      "id": "360cda2f",
      "metadata": {
        "id": "360cda2f",
        "outputId": "b19a9fcc-1cb7-4e8a-bbbe-201eaf572c49"
      },
      "outputs": [
        {
          "name": "stdout",
          "output_type": "stream",
          "text": [
            "<class 'str'>\n"
          ]
        }
      ],
      "source": [
        "print(type(s))"
      ]
    },
    {
      "cell_type": "code",
      "execution_count": null,
      "id": "f7e218ab",
      "metadata": {
        "id": "f7e218ab"
      },
      "outputs": [],
      "source": []
    },
    {
      "cell_type": "code",
      "execution_count": null,
      "id": "42b178e9",
      "metadata": {
        "id": "42b178e9",
        "outputId": "377ec84d-20da-4780-db1f-fd95eec3224f"
      },
      "outputs": [
        {
          "data": {
            "text/plain": [
              "7"
            ]
          },
          "execution_count": 11,
          "metadata": {},
          "output_type": "execute_result"
        }
      ],
      "source": [
        "# len => for strings, lists, tuples, its internal function to python\n",
        "len(s)"
      ]
    },
    {
      "cell_type": "markdown",
      "id": "f85b8730",
      "metadata": {
        "id": "f85b8730"
      },
      "source": [
        "## Indexing"
      ]
    },
    {
      "cell_type": "markdown",
      "id": "48469ed3",
      "metadata": {
        "id": "48469ed3"
      },
      "source": [
        "## Positive indexing"
      ]
    },
    {
      "cell_type": "code",
      "execution_count": null,
      "id": "5a0c3c60",
      "metadata": {
        "id": "5a0c3c60",
        "outputId": "408ba03d-030b-46b2-cb65-6820ee7cae26"
      },
      "outputs": [
        {
          "data": {
            "text/plain": [
              "'W'"
            ]
          },
          "execution_count": 12,
          "metadata": {},
          "output_type": "execute_result"
        }
      ],
      "source": [
        "s[0]"
      ]
    },
    {
      "cell_type": "code",
      "execution_count": null,
      "id": "e2cd6bbd",
      "metadata": {
        "id": "e2cd6bbd",
        "outputId": "2544ae55-43a1-48f9-af27-e075be731f0e"
      },
      "outputs": [
        {
          "data": {
            "text/plain": [
              "'C'"
            ]
          },
          "execution_count": 13,
          "metadata": {},
          "output_type": "execute_result"
        }
      ],
      "source": [
        "s[3]"
      ]
    },
    {
      "cell_type": "code",
      "execution_count": null,
      "id": "00f88863",
      "metadata": {
        "id": "00f88863",
        "outputId": "445d71fe-1a78-41a6-a89b-39bf5ab3a8d5"
      },
      "outputs": [
        {
          "ename": "IndexError",
          "evalue": "string index out of range",
          "output_type": "error",
          "traceback": [
            "\u001b[1;31m---------------------------------------------------------------------------\u001b[0m",
            "\u001b[1;31mIndexError\u001b[0m                                Traceback (most recent call last)",
            "Input \u001b[1;32mIn [14]\u001b[0m, in \u001b[0;36m<cell line: 1>\u001b[1;34m()\u001b[0m\n\u001b[1;32m----> 1\u001b[0m \u001b[43ms\u001b[49m\u001b[43m[\u001b[49m\u001b[38;5;241;43m7\u001b[39;49m\u001b[43m]\u001b[49m\n",
            "\u001b[1;31mIndexError\u001b[0m: string index out of range"
          ]
        }
      ],
      "source": [
        "s[7]"
      ]
    },
    {
      "cell_type": "markdown",
      "id": "dba67980",
      "metadata": {
        "id": "dba67980"
      },
      "source": [
        "## Negative indexing"
      ]
    },
    {
      "cell_type": "code",
      "execution_count": null,
      "id": "9305625a",
      "metadata": {
        "id": "9305625a",
        "outputId": "dcd2efe0-0cb4-45d4-8c37-efb5017245c5"
      },
      "outputs": [
        {
          "data": {
            "text/plain": [
              "'E'"
            ]
          },
          "execution_count": 15,
          "metadata": {},
          "output_type": "execute_result"
        }
      ],
      "source": [
        "s[-1]"
      ]
    },
    {
      "cell_type": "code",
      "execution_count": null,
      "id": "c513d2f9",
      "metadata": {
        "id": "c513d2f9",
        "outputId": "7fe99ecc-7ffc-45ee-8f49-293d8fdf6897"
      },
      "outputs": [
        {
          "data": {
            "text/plain": [
              "'O'"
            ]
          },
          "execution_count": 16,
          "metadata": {},
          "output_type": "execute_result"
        }
      ],
      "source": [
        "s[-3]"
      ]
    },
    {
      "cell_type": "markdown",
      "id": "380dae67",
      "metadata": {
        "id": "380dae67"
      },
      "source": [
        "## Slicing\n",
        " - Extracts a substring from a string\n",
        " - Syntax: startpos:endpos:skip count / Direction\n",
        " - Startpos -. included, endpos -. excluded"
      ]
    },
    {
      "cell_type": "code",
      "execution_count": null,
      "id": "f07bb0ce",
      "metadata": {
        "id": "f07bb0ce",
        "outputId": "4863998a-5d90-45c6-ef24-0ce8db0b33b5"
      },
      "outputs": [
        {
          "data": {
            "text/plain": [
              "'WEL'"
            ]
          },
          "execution_count": 17,
          "metadata": {},
          "output_type": "execute_result"
        }
      ],
      "source": [
        "s[0:3]"
      ]
    },
    {
      "cell_type": "code",
      "execution_count": null,
      "id": "12022764",
      "metadata": {
        "id": "12022764",
        "outputId": "310edfa0-e89a-4a95-e413-05bebecb63ec"
      },
      "outputs": [
        {
          "data": {
            "text/plain": [
              "'COME'"
            ]
          },
          "execution_count": 18,
          "metadata": {},
          "output_type": "execute_result"
        }
      ],
      "source": [
        "s[3:8]"
      ]
    },
    {
      "cell_type": "code",
      "execution_count": null,
      "id": "6c8fd538",
      "metadata": {
        "id": "6c8fd538",
        "outputId": "e7277624-3776-4615-814d-ce533e32de9e"
      },
      "outputs": [
        {
          "data": {
            "text/plain": [
              "'COME'"
            ]
          },
          "execution_count": 19,
          "metadata": {},
          "output_type": "execute_result"
        }
      ],
      "source": [
        "s[3:]"
      ]
    },
    {
      "cell_type": "code",
      "execution_count": null,
      "id": "feddf3dd",
      "metadata": {
        "id": "feddf3dd",
        "outputId": "964f7c2a-183f-42c7-afdd-3ef89b7cd34c"
      },
      "outputs": [
        {
          "data": {
            "text/plain": [
              "'WEL'"
            ]
          },
          "execution_count": 20,
          "metadata": {},
          "output_type": "execute_result"
        }
      ],
      "source": [
        "s[:3]"
      ]
    },
    {
      "cell_type": "code",
      "execution_count": null,
      "id": "0f95de70",
      "metadata": {
        "id": "0f95de70",
        "outputId": "c79381a7-ead8-49a3-fec0-d1f5660eff72"
      },
      "outputs": [
        {
          "data": {
            "text/plain": [
              "'WELCOME'"
            ]
          },
          "execution_count": 21,
          "metadata": {},
          "output_type": "execute_result"
        }
      ],
      "source": [
        "s[:]"
      ]
    },
    {
      "cell_type": "code",
      "execution_count": null,
      "id": "dabe4a62",
      "metadata": {
        "id": "dabe4a62",
        "outputId": "a3fdf1f2-d9b7-4019-8d83-98cadd89b8ab"
      },
      "outputs": [
        {
          "data": {
            "text/plain": [
              "'WELCOME'"
            ]
          },
          "execution_count": 22,
          "metadata": {},
          "output_type": "execute_result"
        }
      ],
      "source": [
        "s"
      ]
    },
    {
      "cell_type": "code",
      "execution_count": null,
      "id": "a7480593",
      "metadata": {
        "id": "a7480593",
        "outputId": "69909411-5307-4533-f988-b0830174b8ab"
      },
      "outputs": [
        {
          "data": {
            "text/plain": [
              "'OM'"
            ]
          },
          "execution_count": 23,
          "metadata": {},
          "output_type": "execute_result"
        }
      ],
      "source": [
        "s[-3:-1]"
      ]
    },
    {
      "cell_type": "code",
      "execution_count": null,
      "id": "2f3d0b07",
      "metadata": {
        "id": "2f3d0b07",
        "outputId": "fa95dd0a-69bd-4392-cd4a-0c5359410e66"
      },
      "outputs": [
        {
          "data": {
            "text/plain": [
              "'WLOE'"
            ]
          },
          "execution_count": 24,
          "metadata": {},
          "output_type": "execute_result"
        }
      ],
      "source": [
        "s[::2]"
      ]
    },
    {
      "cell_type": "code",
      "execution_count": null,
      "id": "d2facf2f",
      "metadata": {
        "id": "d2facf2f",
        "outputId": "318be624-a57d-4631-a235-740d74b8ad1c"
      },
      "outputs": [
        {
          "data": {
            "text/plain": [
              "''"
            ]
          },
          "execution_count": 25,
          "metadata": {},
          "output_type": "execute_result"
        }
      ],
      "source": [
        "s[-1:-3]"
      ]
    },
    {
      "cell_type": "code",
      "execution_count": null,
      "id": "0f0e6431",
      "metadata": {
        "id": "0f0e6431",
        "outputId": "5060f8fb-6aa0-45cd-e5b1-6706e588324a"
      },
      "outputs": [
        {
          "data": {
            "text/plain": [
              "'EMOCLEW'"
            ]
          },
          "execution_count": 26,
          "metadata": {},
          "output_type": "execute_result"
        }
      ],
      "source": [
        "s[::-1]"
      ]
    },
    {
      "cell_type": "code",
      "execution_count": null,
      "id": "f5dbc263",
      "metadata": {
        "id": "f5dbc263",
        "outputId": "b9dee921-2a2b-4daa-8101-0a1ae3e9e007"
      },
      "outputs": [
        {
          "data": {
            "text/plain": [
              "'EOLW'"
            ]
          },
          "execution_count": 31,
          "metadata": {},
          "output_type": "execute_result"
        }
      ],
      "source": [
        "s[::-2]"
      ]
    },
    {
      "cell_type": "code",
      "execution_count": null,
      "id": "2747477f",
      "metadata": {
        "id": "2747477f",
        "outputId": "dad8d957-53e9-4c1c-badd-6bb28d71edf2"
      },
      "outputs": [
        {
          "data": {
            "text/plain": [
              "'wELCOME'"
            ]
          },
          "execution_count": 32,
          "metadata": {},
          "output_type": "execute_result"
        }
      ],
      "source": [
        "s.replace(\"W\",\"w\")"
      ]
    },
    {
      "cell_type": "code",
      "execution_count": null,
      "id": "8c2acb5e",
      "metadata": {
        "id": "8c2acb5e",
        "outputId": "08a88bb5-fd14-4668-af04-d2e9ee34dddc"
      },
      "outputs": [
        {
          "data": {
            "text/plain": [
              "'WELCOME'"
            ]
          },
          "execution_count": 33,
          "metadata": {},
          "output_type": "execute_result"
        }
      ],
      "source": [
        "s"
      ]
    },
    {
      "cell_type": "code",
      "execution_count": null,
      "id": "a85d9e35",
      "metadata": {
        "id": "a85d9e35"
      },
      "outputs": [],
      "source": [
        "s = s.replace(\"W\",\"w\")"
      ]
    },
    {
      "cell_type": "code",
      "execution_count": null,
      "id": "ae31eca2",
      "metadata": {
        "id": "ae31eca2",
        "outputId": "b5355da1-b22c-42f4-d642-6afb88ffcdad"
      },
      "outputs": [
        {
          "data": {
            "text/plain": [
              "'wELCOME'"
            ]
          },
          "execution_count": 35,
          "metadata": {},
          "output_type": "execute_result"
        }
      ],
      "source": [
        "s"
      ]
    },
    {
      "cell_type": "code",
      "execution_count": null,
      "id": "dc75a8f7",
      "metadata": {
        "id": "dc75a8f7"
      },
      "outputs": [],
      "source": [
        "s = \"WELCOME\""
      ]
    },
    {
      "cell_type": "code",
      "execution_count": null,
      "id": "39164122",
      "metadata": {
        "id": "39164122",
        "outputId": "b58b4388-9c7d-4665-b072-0899dbd13426"
      },
      "outputs": [
        {
          "data": {
            "text/plain": [
              "'WELCOME'"
            ]
          },
          "execution_count": 38,
          "metadata": {},
          "output_type": "execute_result"
        }
      ],
      "source": [
        "s"
      ]
    },
    {
      "cell_type": "code",
      "execution_count": null,
      "id": "cbf15c9b",
      "metadata": {
        "id": "cbf15c9b",
        "outputId": "c8ea0a74-0f44-4b71-a226-6a1dc97410de"
      },
      "outputs": [
        {
          "data": {
            "text/plain": [
              "2"
            ]
          },
          "execution_count": 39,
          "metadata": {},
          "output_type": "execute_result"
        }
      ],
      "source": [
        "s.index(\"L\")"
      ]
    },
    {
      "cell_type": "code",
      "execution_count": null,
      "id": "7c5014c9",
      "metadata": {
        "id": "7c5014c9",
        "outputId": "caf783b2-c665-44d7-b8f4-1eeceb787576"
      },
      "outputs": [
        {
          "ename": "TypeError",
          "evalue": "replace expected at least 2 arguments, got 0",
          "output_type": "error",
          "traceback": [
            "\u001b[1;31m---------------------------------------------------------------------------\u001b[0m",
            "\u001b[1;31mTypeError\u001b[0m                                 Traceback (most recent call last)",
            "Input \u001b[1;32mIn [40]\u001b[0m, in \u001b[0;36m<cell line: 1>\u001b[1;34m()\u001b[0m\n\u001b[1;32m----> 1\u001b[0m \u001b[43ms\u001b[49m\u001b[38;5;241;43m.\u001b[39;49m\u001b[43mreplace\u001b[49m\u001b[43m(\u001b[49m\u001b[43m)\u001b[49m\n",
            "\u001b[1;31mTypeError\u001b[0m: replace expected at least 2 arguments, got 0"
          ]
        }
      ],
      "source": [
        "s.replace() #shift+tab+tab for doc string (Explanation of the function)"
      ]
    },
    {
      "cell_type": "code",
      "execution_count": null,
      "id": "eef561e6",
      "metadata": {
        "id": "eef561e6",
        "outputId": "ce383a7e-3718-42b4-b0fe-8d834daf37cb"
      },
      "outputs": [
        {
          "data": {
            "text/plain": [
              "'WELCOME'"
            ]
          },
          "execution_count": 41,
          "metadata": {},
          "output_type": "execute_result"
        }
      ],
      "source": [
        "s"
      ]
    },
    {
      "cell_type": "code",
      "execution_count": null,
      "id": "b5db7570",
      "metadata": {
        "id": "b5db7570",
        "outputId": "43a36727-56fe-4c1a-86e4-d8c7f6345192"
      },
      "outputs": [
        {
          "ename": "TypeError",
          "evalue": "can only concatenate str (not \"int\") to str",
          "output_type": "error",
          "traceback": [
            "\u001b[1;31m---------------------------------------------------------------------------\u001b[0m",
            "\u001b[1;31mTypeError\u001b[0m                                 Traceback (most recent call last)",
            "Input \u001b[1;32mIn [42]\u001b[0m, in \u001b[0;36m<cell line: 1>\u001b[1;34m()\u001b[0m\n\u001b[1;32m----> 1\u001b[0m \u001b[43ms\u001b[49m\u001b[43m \u001b[49m\u001b[38;5;241;43m+\u001b[39;49m\u001b[43m \u001b[49m\u001b[38;5;241;43m10\u001b[39;49m\n",
            "\u001b[1;31mTypeError\u001b[0m: can only concatenate str (not \"int\") to str"
          ]
        }
      ],
      "source": [
        "s + 10"
      ]
    },
    {
      "cell_type": "code",
      "execution_count": null,
      "id": "9f4ab108",
      "metadata": {
        "id": "9f4ab108"
      },
      "outputs": [],
      "source": [
        "t = \" welcome\""
      ]
    },
    {
      "cell_type": "code",
      "execution_count": null,
      "id": "82b652a5",
      "metadata": {
        "id": "82b652a5",
        "outputId": "c901afc4-0d9a-47c1-f697-542b1ea1857a"
      },
      "outputs": [
        {
          "data": {
            "text/plain": [
              "'WELCOME welcome'"
            ]
          },
          "execution_count": 44,
          "metadata": {},
          "output_type": "execute_result"
        }
      ],
      "source": [
        "s+t"
      ]
    },
    {
      "cell_type": "code",
      "execution_count": null,
      "id": "2762555a",
      "metadata": {
        "id": "2762555a",
        "outputId": "25757c32-f732-475b-ebdb-1acd654daf8b"
      },
      "outputs": [
        {
          "data": {
            "text/plain": [
              "'WELCOMEWELCOMEWELCOME'"
            ]
          },
          "execution_count": 45,
          "metadata": {},
          "output_type": "execute_result"
        }
      ],
      "source": [
        "s * 3"
      ]
    },
    {
      "cell_type": "code",
      "execution_count": null,
      "id": "4deb5fd3",
      "metadata": {
        "id": "4deb5fd3",
        "outputId": "48f9ca41-3896-434d-bbfe-f60c575a76b1"
      },
      "outputs": [
        {
          "data": {
            "text/plain": [
              "'WELCOME 10'"
            ]
          },
          "execution_count": 46,
          "metadata": {},
          "output_type": "execute_result"
        }
      ],
      "source": [
        "s + \" 10\""
      ]
    },
    {
      "cell_type": "markdown",
      "id": "7194f8bb",
      "metadata": {
        "id": "7194f8bb"
      },
      "source": [
        "## LISTS"
      ]
    },
    {
      "cell_type": "markdown",
      "id": "b95a0aaa",
      "metadata": {
        "id": "b95a0aaa"
      },
      "source": [
        "- Ordered collection of objects/elements/items\n",
        "- []\n",
        "- MUTABLE"
      ]
    },
    {
      "cell_type": "code",
      "execution_count": null,
      "id": "7a973030",
      "metadata": {
        "id": "7a973030"
      },
      "outputs": [],
      "source": [
        "languages = [\"C\", \"CPP\", \"Java\", \"C#\"]"
      ]
    },
    {
      "cell_type": "code",
      "execution_count": null,
      "id": "50b27130",
      "metadata": {
        "id": "50b27130",
        "outputId": "792619f4-1236-4335-b2d6-fb7df393210c"
      },
      "outputs": [
        {
          "data": {
            "text/plain": [
              "['C', 'CPP', 'Java', 'C#']"
            ]
          },
          "execution_count": 48,
          "metadata": {},
          "output_type": "execute_result"
        }
      ],
      "source": [
        "languages"
      ]
    },
    {
      "cell_type": "code",
      "execution_count": null,
      "id": "4c588e28",
      "metadata": {
        "id": "4c588e28",
        "outputId": "6ec9bd37-06b4-4269-bf3c-8e86bf70927b"
      },
      "outputs": [
        {
          "name": "stdout",
          "output_type": "stream",
          "text": [
            "['C', 'CPP', 'Java', 'C#']\n"
          ]
        }
      ],
      "source": [
        "print(languages)"
      ]
    },
    {
      "cell_type": "code",
      "execution_count": null,
      "id": "58ea8a8f",
      "metadata": {
        "id": "58ea8a8f",
        "outputId": "7a555a1a-3955-4cf5-9eb4-32672a645258"
      },
      "outputs": [
        {
          "data": {
            "text/plain": [
              "list"
            ]
          },
          "execution_count": 50,
          "metadata": {},
          "output_type": "execute_result"
        }
      ],
      "source": [
        "type(languages)"
      ]
    },
    {
      "cell_type": "code",
      "execution_count": null,
      "id": "437be3e2",
      "metadata": {
        "id": "437be3e2",
        "outputId": "079f02aa-60ec-4d1c-db0c-c4018cd67c1a"
      },
      "outputs": [
        {
          "data": {
            "text/plain": [
              "'C'"
            ]
          },
          "execution_count": 51,
          "metadata": {},
          "output_type": "execute_result"
        }
      ],
      "source": [
        "languages[0]"
      ]
    },
    {
      "cell_type": "code",
      "execution_count": null,
      "id": "5a05d00c",
      "metadata": {
        "id": "5a05d00c",
        "outputId": "5e7aeb73-8dee-4ce0-8ef5-87b5285b60d4"
      },
      "outputs": [
        {
          "data": {
            "text/plain": [
              "'C#'"
            ]
          },
          "execution_count": 52,
          "metadata": {},
          "output_type": "execute_result"
        }
      ],
      "source": [
        "languages[3]"
      ]
    },
    {
      "cell_type": "code",
      "execution_count": null,
      "id": "da04b786",
      "metadata": {
        "id": "da04b786",
        "outputId": "c9c0c9d5-8ff5-4513-c992-5ef7f1cf56df"
      },
      "outputs": [
        {
          "data": {
            "text/plain": [
              "'C#'"
            ]
          },
          "execution_count": 53,
          "metadata": {},
          "output_type": "execute_result"
        }
      ],
      "source": [
        "languages[-1]"
      ]
    },
    {
      "cell_type": "code",
      "execution_count": null,
      "id": "a2995587",
      "metadata": {
        "id": "a2995587",
        "outputId": "a59b1a68-94f2-4e04-8350-29ab0e5cefb8"
      },
      "outputs": [
        {
          "data": {
            "text/plain": [
              "['C', 'CPP']"
            ]
          },
          "execution_count": 54,
          "metadata": {},
          "output_type": "execute_result"
        }
      ],
      "source": [
        "languages[:2]"
      ]
    },
    {
      "cell_type": "code",
      "execution_count": null,
      "id": "0ba1ad01",
      "metadata": {
        "id": "0ba1ad01",
        "outputId": "e041cb68-e644-441c-d56b-76d660cba3a2"
      },
      "outputs": [
        {
          "data": {
            "text/plain": [
              "str"
            ]
          },
          "execution_count": 56,
          "metadata": {},
          "output_type": "execute_result"
        }
      ],
      "source": [
        "type(languages[-2])"
      ]
    },
    {
      "cell_type": "code",
      "execution_count": null,
      "id": "cc75839b",
      "metadata": {
        "id": "cc75839b",
        "outputId": "91b82d3d-7a31-48b7-e51f-62fd62527223"
      },
      "outputs": [
        {
          "data": {
            "text/plain": [
              "'J'"
            ]
          },
          "execution_count": 57,
          "metadata": {},
          "output_type": "execute_result"
        }
      ],
      "source": [
        "languages[-2][0]"
      ]
    },
    {
      "cell_type": "code",
      "execution_count": null,
      "id": "d583a006",
      "metadata": {
        "id": "d583a006"
      },
      "outputs": [],
      "source": [
        "languages[3] = [\"python\", \"scipy\", \"pandas\"]"
      ]
    },
    {
      "cell_type": "code",
      "execution_count": null,
      "id": "554d3bd4",
      "metadata": {
        "id": "554d3bd4",
        "outputId": "42ae8061-3bc6-4278-9f7f-fde9fe96723a"
      },
      "outputs": [
        {
          "data": {
            "text/plain": [
              "['C', 'CPP', 'Java', ['python', 'scipy', 'pandas']]"
            ]
          },
          "execution_count": 60,
          "metadata": {},
          "output_type": "execute_result"
        }
      ],
      "source": [
        "languages"
      ]
    },
    {
      "cell_type": "code",
      "execution_count": null,
      "id": "b91ed24d",
      "metadata": {
        "id": "b91ed24d",
        "outputId": "aae7dc05-3c63-4564-87f3-777857f73a7a"
      },
      "outputs": [
        {
          "data": {
            "text/plain": [
              "'p'"
            ]
          },
          "execution_count": 61,
          "metadata": {},
          "output_type": "execute_result"
        }
      ],
      "source": [
        "languages[3][2][0]"
      ]
    },
    {
      "cell_type": "code",
      "execution_count": null,
      "id": "3918d488",
      "metadata": {
        "id": "3918d488"
      },
      "outputs": [],
      "source": []
    }
  ],
  "metadata": {
    "kernelspec": {
      "display_name": "Python 3 (ipykernel)",
      "language": "python",
      "name": "python3"
    },
    "language_info": {
      "codemirror_mode": {
        "name": "ipython",
        "version": 3
      },
      "file_extension": ".py",
      "mimetype": "text/x-python",
      "name": "python",
      "nbconvert_exporter": "python",
      "pygments_lexer": "ipython3",
      "version": "3.9.12"
    },
    "colab": {
      "provenance": []
    }
  },
  "nbformat": 4,
  "nbformat_minor": 5
}